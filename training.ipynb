{
 "cells": [
  {
   "cell_type": "markdown",
   "metadata": {},
   "source": []
  },
  {
   "cell_type": "code",
   "execution_count": null,
   "metadata": {},
   "outputs": [],
   "source": [
    "# Data collection\n",
    "\n",
    "import nltk\n",
    "nltk.download('gutenberg')  # Download the Gutenberg corpus for text processing\n",
    "\n",
    "from nltk.corpus import gutenberg\n",
    "\n",
    "\n",
    "# load hamlet corpus\n",
    "data = gutenberg.raw('shakespeare-hamlet.txt')\n",
    "# save to a file\n",
    "with open('hamlet.txt', 'w') as f:\n",
    "    f.write(data)"
   ]
  },
  {
   "cell_type": "code",
   "execution_count": null,
   "metadata": {},
   "outputs": [],
   "source": []
  },
  {
   "cell_type": "code",
   "execution_count": null,
   "metadata": {},
   "outputs": [],
   "source": [
    "# Data preprocessing\n",
    "import numpy as np\n",
    "import tensorflow as tf\n",
    "from tensorflow.keras import layers\n",
    "from sklearn.model_selection import train_test_split\n"
   ]
  },
  {
   "cell_type": "code",
   "execution_count": null,
   "metadata": {},
   "outputs": [],
   "source": [
    "with open('hamlet.txt', 'r') as f:\n",
    "    text = f.read()\n",
    "from tensorflow.keras.preprocessing.text import Tokenizer\n",
    "# Tokenization\n",
    "tokenizer = Tokenizer()\n",
    "tokenizer.fit_on_texts([text]) # Fit the tokenizer on the text to create a vocabulary\n",
    "total_words = len(tokenizer.word_index) + 1  # Total number of unique words , we are adding 1 for padding because index starts from 1\n",
    "# Convert text to sequences\n"
   ]
  },
  {
   "cell_type": "code",
   "execution_count": null,
   "metadata": {},
   "outputs": [],
   "source": [
    "#  create an input sequence and the next word\n",
    "input_sequences = []\n",
    "\n",
    "#  now   we will create the input sequences and the next word because we want to predict the next word\n",
    "for line in text.split('\\n'):\n",
    "    token_list = tokenizer.texts_to_sequences([line])[0] # Convert the line to a sequence of integers\n",
    "    for i in range(1, len(token_list)):\n",
    "        n_gram_sequence = token_list[:i + 1]  # Create a sequence of n words\n",
    "        input_sequences.append(n_gram_sequence)  # Append the sequence to the input sequences"
   ]
  },
  {
   "cell_type": "code",
   "execution_count": null,
   "metadata": {},
   "outputs": [],
   "source": [
    "#  Pad sequences to ensure uniform input size\n",
    "from tensorflow.keras.preprocessing.sequence import pad_sequences\n",
    "max_sequence_length = max(len(x) for x in input_sequences)  # Find the maximum sequence length\n",
    "#  Pad sequences to the maximum length\n",
    "input_sequences = np.array(pad_sequences(input_sequences, maxlen=max_sequence_length, padding='pre'))"
   ]
  },
  {
   "cell_type": "code",
   "execution_count": null,
   "metadata": {},
   "outputs": [],
   "source": [
    "\n",
    "#  create predictors and label\n",
    "\n",
    "#  we will use all words except the last one as input and the last word as output\n",
    "X, y = input_sequences[:, :-1], input_sequences[:, -1]  # X is all words except the last one, y is the last word\n",
    "\n",
    "\n",
    "\n",
    "#  now we will convert the output to categorical\n",
    "from tensorflow.keras.utils import to_categorical\n",
    "\n",
    "#  we will convert y to categorical so that we can use it for training \n",
    "y = to_categorical(y, num_classes=total_words)  # Convert y to categorical\n"
   ]
  },
  {
   "cell_type": "code",
   "execution_count": null,
   "metadata": {},
   "outputs": [],
   "source": [
    "#  now divide the input sequences into X and y \n",
    "x_train, x_test, y_train, y_test = train_test_split(X, y, test_size=0.2, random_state=42)  # Split the data into training and testing sets"
   ]
  },
  {
   "cell_type": "code",
   "execution_count": null,
   "metadata": {},
   "outputs": [],
   "source": [
    "#  Train the model\n",
    "from tensorflow.keras.models import Sequential # Import Sequential model to build the model\n",
    "from tensorflow.keras.layers import Embedding, LSTM, Dense, Dropout \n",
    "# Embedding is for word embeddings, \n",
    "# LSTM is for the recurrent layer, \n",
    "# Dense is for the output layer, \n",
    "# Dropout is used to prevent overfitting by randomly setting a fraction of input units to 0 at each update during training time, which helps to prevent overfitting.\n",
    "\n",
    "\n",
    "model = Sequential()  # Create a Sequential model\n",
    "\n",
    "# now we need to add the layers to the model \n",
    "model.add(Embedding(total_words, 100, input_length=max_sequence_length - 1))\n",
    "# LSTM layer with 150 units and return sequences because we want to stack another LSTM layer\n",
    "model.add(LSTM(150, return_sequences=True)) \n",
    "\n",
    "#  We will add Dropout layer for regularization because LSTM can overfit easily\n",
    "model.add(Dropout(0.2))  # Dropout layer to prevent overfitting\n",
    "\n",
    "#  Add another LSTM layer because we want to stack another LSTM layer to capture more complex patterns\n",
    "model.add(LSTM(120))  # Second LSTM layer\n",
    "\n",
    "#  Add a Dense layer with softmax activation for multi-class classification\n",
    "model.add(Dense(total_words, activation='softmax'))  # Output layer with softmax activation\n",
    "\n",
    "# compile the model\n",
    "\n",
    "model.compile(loss='categorical_crossentropy', optimizer='adam', metrics=['accuracy'])  \n",
    "\n",
    "\n",
    "model.summary()  # Print the model summary to see the architecture\n",
    "\n",
    "\n"
   ]
  },
  {
   "cell_type": "code",
   "execution_count": null,
   "metadata": {},
   "outputs": [],
   "source": [
    "#  Define early stopping to prevent overfitting\n",
    "from tensorflow.keras.callbacks import EarlyStopping\n",
    "early_stopping = EarlyStopping(monitor='val_loss', patience=3, restore_best_weights=True)  # Early stopping to prevent overfitting"
   ]
  },
  {
   "cell_type": "code",
   "execution_count": null,
   "metadata": {},
   "outputs": [],
   "source": [
    "\n",
    "# Train the model\n",
    "history = model.fit(x_train, y_train, epochs=50, validation_data=(x_test, y_test),callbacks=[early_stopping])  # Train the model with training and testing data"
   ]
  },
  {
   "cell_type": "code",
   "execution_count": null,
   "metadata": {},
   "outputs": [],
   "source": [
    "#  now predict the next word\n",
    "def predict_next_word(model, tokenizer, text, max_sequence_length):\n",
    "    # Tokenize the input text\n",
    "    token_list = tokenizer.texts_to_sequences([text])[0]\n",
    "    # Pad the sequence to the maximum length\n",
    "    token_list = pad_sequences([token_list], maxlen=max_sequence_length - 1, padding='pre')\n",
    "    # Predict the next word\n",
    "    predicted = model.predict(token_list, verbose=0)\n",
    "    # Get the index of the highest probability word\n",
    "    predicted_index = np.argmax(predicted, axis=-1)[0]\n",
    "    #  check if the predicted index is in the tokenizer's index_word\n",
    "    if predicted_index in tokenizer.index_word:\n",
    "        # Get the word corresponding to the index\n",
    "        predicted_word = tokenizer.index_word[predicted_index]\n",
    "        return predicted_word\n",
    "    else:\n",
    "        return None"
   ]
  },
  {
   "cell_type": "code",
   "execution_count": null,
   "metadata": {},
   "outputs": [],
   "source": [
    "#  Now predict the next word\n",
    "text = \"To be or not to be\"\n",
    "max_sequence_length = model.input_shape[1]+1  # Get the maximum sequence length from the model's input shape\n",
    "predicted_word = predict_next_word(model, tokenizer, text, max_sequence_length)\n",
    "print(f\"The next word after '{text}' is '{predicted_word}'\")  # Print"
   ]
  },
  {
   "cell_type": "code",
   "execution_count": null,
   "metadata": {},
   "outputs": [],
   "source": [
    "#  save the model\n",
    "model.save('lstm_text_prediction_model.h5')  # Save the model to a file\n",
    "\n",
    "\n",
    "#  save the tokenizer\n",
    "import pickle\n",
    "with open('tokenizer.pkl', 'wb') as f:\n",
    "    # Save the tokenizer to a file\n",
    "    #  protocol=pickle.HIGHEST_PROTOCOL ensures that the file is saved in the highest protocol available which is more efficient in terms of storage\n",
    "    pickle.dump(tokenizer, f, protocol=pickle.HIGHEST_PROTOCOL)  \n",
    "print(\"Model and tokenizer saved successfully.\")  # Print success message"
   ]
  }
 ],
 "metadata": {
  "kernelspec": {
   "display_name": ".venv",
   "language": "python",
   "name": "python3"
  },
  "language_info": {
   "codemirror_mode": {
    "name": "ipython",
    "version": 3
   },
   "file_extension": ".py",
   "mimetype": "text/x-python",
   "name": "python",
   "nbconvert_exporter": "python",
   "pygments_lexer": "ipython3",
   "version": "3.9.6"
  }
 },
 "nbformat": 4,
 "nbformat_minor": 2
}
